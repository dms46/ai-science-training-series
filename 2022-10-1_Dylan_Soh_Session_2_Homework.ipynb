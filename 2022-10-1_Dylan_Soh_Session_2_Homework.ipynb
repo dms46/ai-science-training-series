{
 "cells": [
  {
   "cell_type": "markdown",
   "id": "f5d56616",
   "metadata": {},
   "source": [
    "# Session 2: Neural Networks in Python (9/27/22) Homework"
   ]
  },
  {
   "cell_type": "code",
   "execution_count": 3,
   "id": "950b2f84",
   "metadata": {},
   "outputs": [
    {
     "name": "stdout",
     "output_type": "stream",
     "text": [
      "epoch 0, loss 2.21921, accuracy 0.52\n",
      "epoch 1, loss 2.11208, accuracy 0.67\n",
      "epoch 2, loss 1.97320, accuracy 0.72\n",
      "epoch 3, loss 1.81167, accuracy 0.74\n",
      "epoch 4, loss 1.61651, accuracy 0.75\n",
      "epoch 5, loss 1.42195, accuracy 0.77\n",
      "epoch 6, loss 1.25089, accuracy 0.79\n",
      "epoch 7, loss 1.11093, accuracy 0.80\n",
      "epoch 8, loss 0.99711, accuracy 0.81\n",
      "epoch 9, loss 0.90533, accuracy 0.82\n",
      "epoch 10, loss 0.83196, accuracy 0.83\n",
      "epoch 11, loss 0.77964, accuracy 0.84\n",
      "epoch 12, loss 0.72242, accuracy 0.84\n",
      "epoch 13, loss 0.68961, accuracy 0.85\n",
      "epoch 14, loss 0.65124, accuracy 0.85\n",
      "epoch 15, loss 0.60919, accuracy 0.86\n",
      "epoch 16, loss 0.59159, accuracy 0.86\n",
      "epoch 17, loss 0.57598, accuracy 0.86\n",
      "epoch 18, loss 0.54138, accuracy 0.87\n",
      "epoch 19, loss 0.53341, accuracy 0.87\n"
     ]
    },
    {
     "data": {
      "text/plain": [
       "0.8680166666666667"
      ]
     },
     "execution_count": 3,
     "metadata": {},
     "output_type": "execute_result"
    },
    {
     "data": {
      "image/png": "[encoded data removed]",
      "text/plain": [
       "<Figure size 432x288 with 1 Axes>"
      ]
     },
     "metadata": {
      "needs_background": "light"
     },
     "output_type": "display_data"
    }
   ],
   "source": [
    "import tensorflow as tf\n",
    "\n",
    "import numpy\n",
    "import matplotlib.pyplot as plt\n",
    "\n",
    "from fc_net import TwoLayerNet\n",
    "\n",
    "# repeating the data prep from the previous notebook\n",
    "(x_train, y_train), (x_test, y_test) = tf.keras.datasets.mnist.load_data()\n",
    "x_train = x_train.astype(numpy.float32)\n",
    "x_test  = x_test.astype(numpy.float32)\n",
    "\n",
    "x_train /= 255.\n",
    "x_test  /= 255.\n",
    "\n",
    "#print(x_train.shape)\n",
    "x_train = x_train.reshape(x_train.shape[0], numpy.prod(x_train[0,:,:].shape))\n",
    "x_test = x_test.reshape(x_test.shape[0], numpy.prod(x_test[0,:,:].shape))\n",
    "\n",
    "#print(x_train.shape)\n",
    "y_train = y_train.astype(numpy.int32)\n",
    "y_test  = y_test.astype(numpy.int32)\n",
    "\n",
    "#print()\n",
    "#print('MNIST data loaded: train:',len(x_train),'test:',len(x_test))\n",
    "#print('X_train:', x_train.shape)\n",
    "#print('y_train:', y_train.shape)\n",
    "\n",
    "# one-hot encoding:\n",
    "nb_classes = 10\n",
    "y_train_onehot = tf.keras.utils.to_categorical(y_train, nb_classes)\n",
    "y_test_onehot = tf.keras.utils.to_categorical(y_test, nb_classes)\n",
    "\n",
    "num_features = x_train.shape[1] # this is the number of pixels\n",
    "# The weights are initialized from a normal distribution with standard deviation weight_scale\n",
    "model = TwoLayerNet(input_dim=num_features, hidden_dim=450, num_classes=nb_classes, weight_scale=.02)\n",
    "\n",
    "# here you can take a look if you want at the initial loss from an untrained network\n",
    "loss, gradients = model.loss(x_train, y_train_onehot)\n",
    "\n",
    "# a simple implementation of stochastic gradient descent\n",
    "def sgd(model, gradients, learning_rate):\n",
    "    for p, w in model.params.items():\n",
    "        dw = gradients[p]\n",
    "        new_weights = w - learning_rate * dw\n",
    "        model.params[p] = new_weights\n",
    "    return model\n",
    "\n",
    "# one training step\n",
    "def learn(model, x_train, y_train_onehot, learning_rate):\n",
    "    loss, gradients = model.loss(x_train, y_train_onehot)\n",
    "    model = sgd(model, gradients, learning_rate)\n",
    "    return loss, model\n",
    "\n",
    "def accuracy(model, x, true_values):\n",
    "    scores = model.loss(x)\n",
    "    predictions = numpy.argmax(scores, axis=1)\n",
    "    N = predictions.shape[0]\n",
    "    acc = (true_values == predictions).sum() / N\n",
    "    return acc\n",
    "\n",
    "# Here's an example training loop using this two-layer model. Can you do better? \n",
    "learning_rate = 0.1  \n",
    "num_examples = x_train.shape[0]\n",
    "batch_size = 10000\n",
    "num_batches = int(num_examples / batch_size)\n",
    "num_epochs = 20\n",
    "losses = numpy.zeros(num_batches*num_epochs,)\n",
    "indices = numpy.arange(num_examples)\n",
    "\n",
    "i = 0\n",
    "for epoch in range(0, num_epochs):\n",
    "    # in each epoch, we loop over all of the training examples\n",
    "    for step in range(0, num_batches):\n",
    "        # grabbing the next batch\n",
    "        offset = step * batch_size\n",
    "        batch_range = range(offset, offset+batch_size)\n",
    "        x_train_batch = x_train[batch_range, :]\n",
    "        y_train_batch = y_train_onehot[batch_range,:]\n",
    "        \n",
    "        # feed the next batch in to do one sgd step\n",
    "        loss, model = learn(model, x_train_batch, y_train_batch, learning_rate)\n",
    "        losses[i] = loss\n",
    "        i += 1\n",
    "\n",
    "    acc = accuracy(model, x_train, y_train)\n",
    "    print(\"epoch %d, loss %.5f, accuracy %.2f\" % (epoch, loss, acc))\n",
    "    \n",
    "    # reshuffle the data so that we get a new set of batches\n",
    "    numpy.random.shuffle(indices)\n",
    "    x_train = x_train[indices,:]\n",
    "    y_train = y_train[indices] # keep this shuffled the same way for use in accuracy calculation\n",
    "    y_train_onehot = y_train_onehot[indices,:]\n",
    "plt.plot(losses)\n",
    "\n",
    "accuracy(model, x_train, y_train)"
   ]
  }
 ],
 "metadata": {
  "kernelspec": {
   "display_name": "conda/2021-09-22",
   "language": "python",
   "name": "conda-2021-09-22"
  },
  "language_info": {
   "codemirror_mode": {
    "name": "ipython",
    "version": 3
   },
   "file_extension": ".py",
   "mimetype": "text/x-python",
   "name": "python",
   "nbconvert_exporter": "python",
   "pygments_lexer": "ipython3",
   "version": "3.8.10"
  }
 },
 "nbformat": 4,
 "nbformat_minor": 5
}
